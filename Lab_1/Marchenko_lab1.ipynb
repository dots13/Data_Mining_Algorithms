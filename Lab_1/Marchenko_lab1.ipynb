{
 "cells": [
  {
   "cell_type": "markdown",
   "metadata": {},
   "source": [
    "# MI-ADM: first home assignment\n",
    "\n",
    "  * **Deadline**: 19/03/2018, -2 points for a late submission, hard deadline is the first day of the exam period.\n",
    "  * **What to submit**: Just this notebook with you code and texts, not the dataset! Please run \"Kernel>Restart & Clear Output\" before submitting.\n",
    "  * **How to submit**: Preferred way is to start a repository (for both home assignments) on https://gitlab.fit.cvut.cz and add me as a reporter (my username is kloudkar), however, you can send this jupyter notebook by email (*do not send the dataset!!*).\n",
    "\n",
    "Generally speaking, the goal of this assignment is to use kNN algorithm to get the best possible result (in terms of classification accuracy) when applied on the MNIST dataset.\n",
    "\n",
    "What you HAVE TO do:\n",
    "  * Apply the kNN algorithm as implemented in sklearn to the MNIST dataset.\n",
    "  * Come up with at least one new reasonable feature (extracting features ...).\n",
    "  * Select at least two parameters of the model and tune them using [cross-validation](http://scikit-learn.org/stable/modules/cross_validation.html).\n",
    "  * Write down a (one paragraph long) conclusion into the very last cell of this notebook.\n",
    "\n",
    "If you do all this properly you will be given 4 points out of possible 6.\n",
    "\n",
    "To get more do some extra work to (try to) improve the result, here are some suggestions:\n",
    "  * Try to extract more features, read some papers or blogs to get an inspiration (google something like \"image data feature extraction\").\n",
    "  * Try to tune more parameters of the model.\n",
    "  * Try to use the decision tree algorithm (it is a topic of our next tutorial class) and compare the results.\n",
    "  * Try to run PCA to lower the number of features.\n",
    "  * Sigh in at kaggle.com and apply your resulting model to the test dataset in [the MNIST competition](https://www.kaggle.com/c/digit-recognizer)."
   ]
  },
  {
   "cell_type": "code",
   "execution_count": 1,
   "metadata": {},
   "outputs": [],
   "source": [
    "import pandas as pd\n",
    "import numpy as np\n",
    "from sklearn.model_selection import cross_val_score\n",
    "from sklearn.model_selection import train_test_split\n",
    "from matplotlib import pyplot as plt\n",
    "from sklearn.neighbors import KNeighborsClassifier\n",
    "data = pd.read_csv('train.csv')"
   ]
  },
  {
   "cell_type": "code",
   "execution_count": 2,
   "metadata": {},
   "outputs": [
    {
     "name": "stdout",
     "output_type": "stream",
     "text": [
      "<class 'pandas.core.frame.DataFrame'>\n",
      "RangeIndex: 42000 entries, 0 to 41999\n",
      "Columns: 785 entries, label to pixel783\n",
      "dtypes: int64(785)\n",
      "memory usage: 251.5 MB\n"
     ]
    }
   ],
   "source": [
    "data.info()"
   ]
  },
  {
   "cell_type": "code",
   "execution_count": 3,
   "metadata": {},
   "outputs": [],
   "source": [
    "dtrain, dtest = train_test_split(data, test_size=0.25, random_state=570)\n",
    "X = dtrain.drop(['label'], axis = 1, errors = 'ignore')\n",
    "y = dtrain.label\n",
    "Xtest = dtest.drop(['label'], axis = 1, errors = 'ignore')\n",
    "ytest = dtest.label"
   ]
  },
  {
   "cell_type": "markdown",
   "metadata": {},
   "source": [
    "# k-nearest neighbors"
   ]
  },
  {
   "cell_type": "markdown",
   "metadata": {},
   "source": [
    "* default params:\n",
    "\n",
    "class sklearn.neighbors.KNeighborsClassifier(n_neighbors=5, weights=’uniform’, algorithm=’auto’, leaf_size=30, p=2, metric=’minkowski’, metric_params=None, n_jobs=1, **kwargs)[source]"
   ]
  },
  {
   "cell_type": "code",
   "execution_count": 4,
   "metadata": {},
   "outputs": [],
   "source": [
    "knn = KNeighborsClassifier(n_neighbors = 3)"
   ]
  },
  {
   "cell_type": "code",
   "execution_count": 5,
   "metadata": {},
   "outputs": [
    {
     "data": {
      "text/plain": [
       "KNeighborsClassifier(algorithm='auto', leaf_size=30, metric='minkowski',\n",
       "           metric_params=None, n_jobs=1, n_neighbors=3, p=2,\n",
       "           weights='uniform')"
      ]
     },
     "metadata": {},
     "output_type": "display_data"
    }
   ],
   "source": [
    "display(knn)"
   ]
  },
  {
   "cell_type": "code",
   "execution_count": 6,
   "metadata": {},
   "outputs": [
    {
     "data": {
      "text/plain": [
       "KNeighborsClassifier(algorithm='auto', leaf_size=30, metric='minkowski',\n",
       "           metric_params=None, n_jobs=1, n_neighbors=3, p=2,\n",
       "           weights='uniform')"
      ]
     },
     "execution_count": 6,
     "metadata": {},
     "output_type": "execute_result"
    }
   ],
   "source": [
    "knn.fit(X,y)"
   ]
  },
  {
   "cell_type": "markdown",
   "metadata": {},
   "source": [
    "#### Evaluating the model\n",
    "* This part without change was taken from the laboratory work."
   ]
  },
  {
   "cell_type": "code",
   "execution_count": null,
   "metadata": {},
   "outputs": [],
   "source": [
    "ypredict = knn.predict(Xtest)"
   ]
  },
  {
   "cell_type": "code",
   "execution_count": null,
   "metadata": {},
   "outputs": [],
   "source": [
    "# store the predicted response values\n",
    "# I comment it, becouse it worked very slow\n",
    "\n",
    "res = pd.DataFrame(np.matrix([ypredict, ytest, ypredict - ytest]).T)\n",
    "res.columns = ['predict', 'real', 'diff']\n",
    "print('number of well predicted = {0} out of {1} ({2:.4f} %)'.\n",
    "      format(res[res['diff'] == 0].shape[0], ytest.shape[0], 100*res[res['diff'] == 0].shape[0]/ytest.shape[0]))"
   ]
  },
  {
   "cell_type": "markdown",
   "metadata": {},
   "source": [
    "#### Common evaluation metric using metrics from sklearn"
   ]
  },
  {
   "cell_type": "code",
   "execution_count": 7,
   "metadata": {},
   "outputs": [],
   "source": [
    "from sklearn import metrics"
   ]
  },
  {
   "cell_type": "code",
   "execution_count": 8,
   "metadata": {},
   "outputs": [
    {
     "name": "stdout",
     "output_type": "stream",
     "text": [
      "0.9676190476190476\n"
     ]
    }
   ],
   "source": [
    "print(metrics.accuracy_score(ytest, knn.predict(Xtest)))"
   ]
  },
  {
   "cell_type": "markdown",
   "metadata": {},
   "source": [
    "### Evaluate a score by cross-validation"
   ]
  },
  {
   "cell_type": "markdown",
   "metadata": {},
   "source": [
    "* default params:\n",
    "\n",
    "sklearn.model_selection.cross_val_score(estimator, X, y=None, groups=None, scoring=None, cv=None, n_jobs=1, verbose=0, fit_params=None, pre_dispatch=‘2*n_jobs’)"
   ]
  },
  {
   "cell_type": "code",
   "execution_count": 15,
   "metadata": {},
   "outputs": [],
   "source": [
    "data = pd.read_csv('train.csv')\n",
    "X = data.drop(['label'], axis = 1, errors = 'ignore')\n",
    "y = data.label"
   ]
  },
  {
   "cell_type": "code",
   "execution_count": 16,
   "metadata": {},
   "outputs": [],
   "source": [
    "scores = cross_val_score(knn, X, y, cv=3, n_jobs = -1)"
   ]
  },
  {
   "cell_type": "code",
   "execution_count": null,
   "metadata": {},
   "outputs": [],
   "source": [
    "scores"
   ]
  },
  {
   "cell_type": "code",
   "execution_count": 18,
   "metadata": {},
   "outputs": [
    {
     "name": "stdout",
     "output_type": "stream",
     "text": [
      "Accuracy: 0.97 (+/- 0.00)\n"
     ]
    }
   ],
   "source": [
    "print(\"Accuracy: %0.2f (+/- %0.2f)\" % (scores.mean(), scores.std() * 2))"
   ]
  },
  {
   "cell_type": "markdown",
   "metadata": {},
   "source": [
    "### Changing parameters.\n",
    "In next part was choosing the algorithm - BallTree and changed the param - leaf size. \n",
    "\n",
    "leaf_size : positive integer (default = 40)\n",
    "Number of points at which to switch to brute-force. Changing leaf_size will not affect the results of a query, but can significantly impact the speed of a query and the memory required to store the constructed tree. The amount of memory needed to store the tree scales as approximately n_samples / leaf_size. \n",
    "\n",
    "cProfile was used to measure the working time of the procedure."
   ]
  },
  {
   "cell_type": "code",
   "execution_count": 9,
   "metadata": {},
   "outputs": [],
   "source": [
    "#import cProfile\n",
    "lf = [20, 30]"
   ]
  },
  {
   "cell_type": "code",
   "execution_count": 10,
   "metadata": {},
   "outputs": [],
   "source": [
    "def knn_leaf_size(X, y, lf):\n",
    "    scores = []\n",
    "    knn = KNeighborsClassifier(algorithm='ball_tree', leaf_size = lf)\n",
    "    display(knn)\n",
    "    scores = cross_val_score(knn, X, y, cv=3, n_jobs = -1)\n",
    "    print('leaf size: ', lf, '\\nScores:' )\n",
    "    print(scores)\n",
    "    print(\"Accuracy: %0.4f (+/- %0.4f)\" % (scores.mean(), scores.std() * 2))\n",
    "    return scores"
   ]
  },
  {
   "cell_type": "code",
   "execution_count": 11,
   "metadata": {},
   "outputs": [
    {
     "data": {
      "text/plain": [
       "KNeighborsClassifier(algorithm='ball_tree', leaf_size=20, metric='minkowski',\n",
       "           metric_params=None, n_jobs=1, n_neighbors=5, p=2,\n",
       "           weights='uniform')"
      ]
     },
     "metadata": {},
     "output_type": "display_data"
    },
    {
     "name": "stdout",
     "output_type": "stream",
     "text": [
      "leaf size:  20 \n",
      "Scores:\n",
      "[0.94204967 0.94628571 0.94881327]\n",
      "Accuracy: 0.9457 (+/- 0.0056)\n"
     ]
    },
    {
     "data": {
      "text/plain": [
       "KNeighborsClassifier(algorithm='ball_tree', leaf_size=30, metric='minkowski',\n",
       "           metric_params=None, n_jobs=1, n_neighbors=5, p=2,\n",
       "           weights='uniform')"
      ]
     },
     "metadata": {},
     "output_type": "display_data"
    },
    {
     "name": "stdout",
     "output_type": "stream",
     "text": [
      "leaf size:  30 \n",
      "Scores:\n",
      "[0.94204967 0.94628571 0.94881327]\n",
      "Accuracy: 0.9457 (+/- 0.0056)\n"
     ]
    }
   ],
   "source": [
    "lf_list = []\n",
    "for i in lf:\n",
    "    #cProfile.run('lf_list.append(knn_leaf_size(X, y, i))')\n",
    "    # if Profile does not install call it like a usual procedure\n",
    "    lf_list.append(knn_leaf_size(Xtest, ytest, i))"
   ]
  },
  {
   "cell_type": "raw",
   "metadata": {},
   "source": [
    "Output from two starts.\n",
    "Test_1:\n",
    "leaf size:  20 \n",
    "Accuracy: 0.9457 (+/- 0.0056)\n",
    "timed exec :1(knn_leaf_size): 79.760\n",
    "\n",
    "leaf size:  30 \n",
    "Accuracy: 0.9457 (+/- 0.0056)\n",
    "timed exec :1(knn_leaf_size): 83.160\n",
    "\n",
    "leaf size:  40 \n",
    "Accuracy: 0.9457 (+/- 0.0056)\n",
    "timed exec :1(knn_leaf_size): 66.749\n",
    "\n",
    "leaf size:  50 \n",
    "Accuracy: 0.9457 (+/- 0.0056)\n",
    "timed exec :1(knn_leaf_size): 80.742\n",
    "    \n",
    "leaf size:  60 \n",
    "Accuracy: 0.9457 (+/- 0.0056)\n",
    "timed exec :1(knn_leaf_size): 64.713\n",
    "        \n",
    "        \n",
    "Test_2:\n",
    "leaf size:  20 \n",
    "Accuracy: 0.9457 (+/- 0.0056)\n",
    "timed exec :1(knn_leaf_size): 71.119\n",
    "        \n",
    "leaf size:  30 \n",
    "Accuracy: 0.9457 (+/- 0.0056)\n",
    "timed exec :1(knn_leaf_size): 65.728    \n",
    "        \n",
    "leaf size:  40 \n",
    "Accuracy: 0.9457 (+/- 0.0056)\n",
    "timed exec :1(knn_leaf_size): 64.225\n",
    "        \n",
    "leaf size:  50 \n",
    "Accuracy: 0.9457 (+/- 0.0056)\n",
    "timed exec :1(knn_leaf_size): 65.546\n",
    "        \n",
    "leaf size:  60 \n",
    "Accuracy: 0.9457 (+/- 0.0056)\n",
    "timed exec :1(knn_leaf_size): 66.231   "
   ]
  },
  {
   "cell_type": "markdown",
   "metadata": {},
   "source": [
    "### Changing metric parameter.\n",
    "\n",
    "http://scikit-learn.org/stable/modules/generated/sklearn.neighbors.DistanceMetric.html\n",
    "\n",
    "* minkowski - sum(|x - y|^p)^(1/p)\n",
    "* chebyshev - max(|x - y|)\n",
    "* manhattan - sum(|x - y|)\n",
    "* hamming - N_unequal(x, y) / N_tot\n",
    "* canberra - sum(|x - y| / (|x| + |y|))\n",
    "* braycurtis - sum(|x - y|) / (sum(|x|) + sum(|y|))\n"
   ]
  },
  {
   "cell_type": "code",
   "execution_count": 12,
   "metadata": {},
   "outputs": [],
   "source": [
    "metrics_arr = ['minkowski', 'chebyshev', 'manhattan', 'hamming', 'canberra', 'braycurtis']"
   ]
  },
  {
   "cell_type": "code",
   "execution_count": 13,
   "metadata": {},
   "outputs": [],
   "source": [
    "def knn_metrics(X, y, metric_param):\n",
    "    scores = []\n",
    "    knn = KNeighborsClassifier(algorithm='ball_tree', metric= metric_param)\n",
    "    print(knn)\n",
    "    scores = cross_val_score(knn, Xtest, ytest, cv=3)\n",
    "    print('Metric: ', metric_param, '\\nScores: ', scores)\n",
    "    print(\"\\nAccuracy: %0.4f (+/- %0.4f)\" % (scores.mean(), scores.std() * 2))\n",
    "    return scores"
   ]
  },
  {
   "cell_type": "code",
   "execution_count": 14,
   "metadata": {},
   "outputs": [
    {
     "name": "stdout",
     "output_type": "stream",
     "text": [
      "KNeighborsClassifier(algorithm='ball_tree', leaf_size=30, metric='minkowski',\n",
      "           metric_params=None, n_jobs=1, n_neighbors=5, p=2,\n",
      "           weights='uniform')\n",
      "Metric:  minkowski \n",
      "Scores:  [0.94204967 0.94628571 0.94881327]\n",
      "\n",
      "Accuracy: 0.9457 (+/- 0.0056)\n",
      "KNeighborsClassifier(algorithm='ball_tree', leaf_size=30, metric='chebyshev',\n",
      "           metric_params=None, n_jobs=1, n_neighbors=5, p=2,\n",
      "           weights='uniform')\n",
      "Metric:  chebyshev \n",
      "Scores:  [0.66942621 0.67485714 0.68744638]\n",
      "\n",
      "Accuracy: 0.6772 (+/- 0.0151)\n",
      "KNeighborsClassifier(algorithm='ball_tree', leaf_size=30, metric='manhattan',\n",
      "           metric_params=None, n_jobs=1, n_neighbors=5, p=2,\n",
      "           weights='uniform')\n",
      "Metric:  manhattan \n",
      "Scores:  [0.93320011 0.93485714 0.93651701]\n",
      "\n",
      "Accuracy: 0.9349 (+/- 0.0027)\n",
      "KNeighborsClassifier(algorithm='ball_tree', leaf_size=30, metric='hamming',\n",
      "           metric_params=None, n_jobs=1, n_neighbors=5, p=2,\n",
      "           weights='uniform')\n",
      "Metric:  hamming \n",
      "Scores:  [0.69426206 0.7        0.70689162]\n",
      "\n",
      "Accuracy: 0.7004 (+/- 0.0103)\n",
      "KNeighborsClassifier(algorithm='ball_tree', leaf_size=30, metric='canberra',\n",
      "           metric_params=None, n_jobs=1, n_neighbors=5, p=2,\n",
      "           weights='uniform')\n",
      "Metric:  canberra \n",
      "Scores:  [0.92948901 0.93028571 0.93708893]\n",
      "\n",
      "Accuracy: 0.9323 (+/- 0.0068)\n",
      "KNeighborsClassifier(algorithm='ball_tree', leaf_size=30, metric='braycurtis',\n",
      "           metric_params=None, n_jobs=1, n_neighbors=5, p=2,\n",
      "           weights='uniform')\n",
      "Metric:  braycurtis \n",
      "Scores:  [0.94661719 0.94457143 0.95338862]\n",
      "\n",
      "Accuracy: 0.9482 (+/- 0.0075)\n"
     ]
    }
   ],
   "source": [
    "metric_list = []\n",
    "for m in metrics_arr:\n",
    "    metric_list.append(knn_metrics(X, y, m))"
   ]
  },
  {
   "cell_type": "markdown",
   "metadata": {},
   "source": [
    "# The idea of processing (and searching for a new feature) is as follows:\n",
    "* 1) make image segmentation, for example, for an image 28x28 pixels, could be selected 6 segments (7x7)\n",
    "* 2) for each segment, calculate the value (it could be normalized) equal to the sum of all the pixel values in this segment. For this, white and black pixels should not be deleted.\n",
    "* 3) Then could be selected all the raws with the same label and calculate the average values for each segment.\n",
    "\n",
    "\n",
    "The resulting array of 16 values will contain the mean values for all segments of the same class. Next, for a new image, could be calculated the value of the segments and find to what class it is closer."
   ]
  },
  {
   "cell_type": "markdown",
   "metadata": {},
   "source": [
    "* This part is the procedure for segments.\n",
    "* // Start pixel - it's the first pixel in every segment. "
   ]
  },
  {
   "cell_type": "code",
   "execution_count": 15,
   "metadata": {},
   "outputs": [],
   "source": [
    "start_pix = []\n",
    "for i in range(0,4):\n",
    "    for j in range (0,4):\n",
    "        start_pix.append(i*196+j*7)"
   ]
  },
  {
   "cell_type": "code",
   "execution_count": 16,
   "metadata": {},
   "outputs": [],
   "source": [
    "def segmentation(data): \n",
    "    segment_arr = []\n",
    "    segment = []\n",
    "    for k in range(0, 16):\n",
    "        for i in range(0, 7):\n",
    "            for j in range(0,7):\n",
    "                segment.append(data[(28*i + j) + start_pix[k] + 1])\n",
    "                segment_avg = sum(segment) / float(len(segment))\n",
    "        segment_arr.append(segment_avg)\n",
    "    return segment_arr"
   ]
  },
  {
   "cell_type": "markdown",
   "metadata": {},
   "source": [
    "* add_longest will return a new list, where each element is a sum of elements in the same position in two lists."
   ]
  },
  {
   "cell_type": "code",
   "execution_count": 17,
   "metadata": {},
   "outputs": [],
   "source": [
    "from itertools import starmap, zip_longest\n",
    "from operator import add\n",
    "\n",
    "def add_longest(l1, l2):\n",
    "    return list(starmap(add, zip_longest(l1, l2, fillvalue=0)))\n"
   ]
  },
  {
   "cell_type": "code",
   "execution_count": 18,
   "metadata": {},
   "outputs": [],
   "source": [
    "# for data, where label =0\n",
    "data_0 = data[data.label == 0]\n",
    "segments_all_for_0 = []\n",
    "for i in range (len(data_0.index)):\n",
    "    segments_all_for_0 = add_longest(segmentation(data_0.values[i]), segments_all_for_0)\n",
    "    \n",
    "normal_segments_all_for_0 = []\n",
    "for i in range(len(segments_all_for_0)):\n",
    "    normal_segments_all_for_0.append(segments_all_for_0[i]/len(data_0.index))\n",
    "    "
   ]
  },
  {
   "cell_type": "code",
   "execution_count": 19,
   "metadata": {},
   "outputs": [],
   "source": [
    "# for data, where label =9\n",
    "data_9 = data[data.label == 9]\n",
    "segments_all_for_9 = []\n",
    "for i in range (len(data_9.index)):\n",
    "    segments_all_for_9 = add_longest(segmentation(data_9.values[i]), segments_all_for_9)\n",
    "normal_segments_all_for_9 = []\n",
    "for i in range(len(segments_all_for_9)):\n",
    "    normal_segments_all_for_9.append(segments_all_for_9[i]/len(data_9.index))"
   ]
  },
  {
   "cell_type": "code",
   "execution_count": 20,
   "metadata": {},
   "outputs": [],
   "source": [
    "#two examles, just one raw with val. 9 and val. 0\n",
    "example_for_9 = segmentation(data.values[41975])\n",
    "example_for_0 = segmentation(data.values[1])"
   ]
  },
  {
   "cell_type": "code",
   "execution_count": 21,
   "metadata": {},
   "outputs": [
    {
     "data": {
      "image/png": "[encoded data removed]",
      "text/plain": [
       "<matplotlib.figure.Figure at 0x1e4857b5048>"
      ]
     },
     "metadata": {},
     "output_type": "display_data"
    }
   ],
   "source": [
    "plt.gcf().clear()\n",
    "plt.plot(range(len(normal_segments_all_for_0)), normal_segments_all_for_0, label='mean val. for 0')\n",
    "plt.plot(range(len(example_for_0)), example_for_0 , label='example val. 0')\n",
    "plt.plot(range(len(normal_segments_all_for_9)), normal_segments_all_for_9 , label='mean val. for 9')\n",
    "plt.plot(range(len(example_for_9)), example_for_9 , label='example val. 9')\n",
    "plt.legend()\n",
    "plt.show()"
   ]
  },
  {
   "cell_type": "markdown",
   "metadata": {},
   "source": [
    "* As can be seen from the graph for 9, it almost coincides with the one obtained with averaging. 0 preserves the form. Further, you can apply algorithms for example as for time series or leave the resulting values as a set of characteristics."
   ]
  },
  {
   "cell_type": "markdown",
   "metadata": {
    "collapsed": true
   },
   "source": [
    "### Decision tree\n",
    "In this part was used a learning method - decision tree. Also was used GridSearchCV to find best parameter values for an estimator. Changing parameters are max_depth and max_features.\n",
    "\n",
    "max_depth :\n",
    "The maximum depth of the tree.\n",
    "\n",
    "max_features : \n",
    "The number of features to consider when looking for the best split:"
   ]
  },
  {
   "cell_type": "code",
   "execution_count": 22,
   "metadata": {},
   "outputs": [],
   "source": [
    "from sklearn.tree import DecisionTreeClassifier\n",
    "from sklearn.model_selection import GridSearchCV, cross_val_score\n",
    "from sklearn import tree"
   ]
  },
  {
   "cell_type": "code",
   "execution_count": 23,
   "metadata": {},
   "outputs": [],
   "source": [
    "data = pd.read_csv('train.csv')\n",
    "X = data.drop(['label'], axis = 1, errors = 'ignore')\n",
    "y = data.label"
   ]
  },
  {
   "cell_type": "code",
   "execution_count": 24,
   "metadata": {},
   "outputs": [],
   "source": [
    "tree_params = {'max_depth': range(10,25), 'max_features': range(2,15)}\n",
    "clf = tree.DecisionTreeClassifier()"
   ]
  },
  {
   "cell_type": "code",
   "execution_count": 25,
   "metadata": {},
   "outputs": [],
   "source": [
    "tree_grid = GridSearchCV(clf, tree_params, cv=3, n_jobs=-1, verbose=True)"
   ]
  },
  {
   "cell_type": "code",
   "execution_count": 26,
   "metadata": {},
   "outputs": [
    {
     "name": "stdout",
     "output_type": "stream",
     "text": [
      "Fitting 3 folds for each of 195 candidates, totalling 585 fits\n"
     ]
    },
    {
     "name": "stderr",
     "output_type": "stream",
     "text": [
      "[Parallel(n_jobs=-1)]: Done  34 tasks      | elapsed:  2.4min\n",
      "[Parallel(n_jobs=-1)]: Done 184 tasks      | elapsed:  5.0min\n",
      "[Parallel(n_jobs=-1)]: Done 434 tasks      | elapsed:  9.1min\n",
      "[Parallel(n_jobs=-1)]: Done 585 out of 585 | elapsed: 11.4min finished\n"
     ]
    },
    {
     "data": {
      "text/plain": [
       "GridSearchCV(cv=3, error_score='raise',\n",
       "       estimator=DecisionTreeClassifier(class_weight=None, criterion='gini', max_depth=None,\n",
       "            max_features=None, max_leaf_nodes=None,\n",
       "            min_impurity_decrease=0.0, min_impurity_split=None,\n",
       "            min_samples_leaf=1, min_samples_split=2,\n",
       "            min_weight_fraction_leaf=0.0, presort=False, random_state=None,\n",
       "            splitter='best'),\n",
       "       fit_params=None, iid=True, n_jobs=-1,\n",
       "       param_grid={'max_depth': range(10, 25), 'max_features': range(2, 15)},\n",
       "       pre_dispatch='2*n_jobs', refit=True, return_train_score=True,\n",
       "       scoring=None, verbose=True)"
      ]
     },
     "execution_count": 26,
     "metadata": {},
     "output_type": "execute_result"
    }
   ],
   "source": [
    "# Fit the model using X as training data and y as target values\n",
    "tree_grid.fit(X, y)"
   ]
  },
  {
   "cell_type": "markdown",
   "metadata": {},
   "source": [
    "* showing best params and best score"
   ]
  },
  {
   "cell_type": "code",
   "execution_count": 27,
   "metadata": {},
   "outputs": [
    {
     "data": {
      "text/plain": [
       "{'max_depth': 19, 'max_features': 14}"
      ]
     },
     "execution_count": 27,
     "metadata": {},
     "output_type": "execute_result"
    }
   ],
   "source": [
    "tree_grid.best_params_"
   ]
  },
  {
   "cell_type": "code",
   "execution_count": 28,
   "metadata": {},
   "outputs": [
    {
     "data": {
      "text/plain": [
       "0.7920714285714285"
      ]
     },
     "execution_count": 28,
     "metadata": {},
     "output_type": "execute_result"
    }
   ],
   "source": [
    "tree_grid.best_score_"
   ]
  },
  {
   "cell_type": "markdown",
   "metadata": {
    "collapsed": true
   },
   "source": [
    "During this work was studied knn algorithm and possible parameters of it. Also was showed how changing the value of parameters effect t accuracy of clustering.  \n",
    "* parameter 'leaf_size':\n",
    "As it was written in the documentation the parameter  leaf_size not affect the results but affect the time. Not enough tests have done to determine how exactly the parameter affects the time.\n",
    "* parameter 'metric':\n",
    "The choice of the metric has a huge effect on accuracy (also for the duration of the work). By default, the algorithm uses the distance of the Minkowski, which gives one of the best results.\n",
    "\n",
    "\n",
    "It is also proposed a method for working with images based on segmentation.\n",
    "Was implemented the decision tree algorithm. To select the best parameters was used a grid, and for evaluating was using cross-validation."
   ]
  },
  {
   "cell_type": "code",
   "execution_count": null,
   "metadata": {},
   "outputs": [],
   "source": []
  },
  {
   "cell_type": "code",
   "execution_count": null,
   "metadata": {},
   "outputs": [],
   "source": []
  },
  {
   "cell_type": "code",
   "execution_count": null,
   "metadata": {},
   "outputs": [],
   "source": []
  }
 ],
 "metadata": {
  "kernelspec": {
   "display_name": "Python 3",
   "language": "python",
   "name": "python3"
  },
  "language_info": {
   "codemirror_mode": {
    "name": "ipython",
    "version": 3
   },
   "file_extension": ".py",
   "mimetype": "text/x-python",
   "name": "python",
   "nbconvert_exporter": "python",
   "pygments_lexer": "ipython3",
   "version": "3.6.2"
  }
 },
 "nbformat": 4,
 "nbformat_minor": 2
}
